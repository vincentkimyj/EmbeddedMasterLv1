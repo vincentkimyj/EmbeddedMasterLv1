{
 "cells": [
  {
   "cell_type": "markdown",
   "id": "7f9796a6",
   "metadata": {},
   "source": [
    "# Flask 백엔드 서버"
   ]
  },
  {
   "cell_type": "markdown",
   "id": "61f7dc82",
   "metadata": {},
   "source": [
    "## 첫 번째 예제"
   ]
  },
  {
   "cell_type": "code",
   "execution_count": null,
   "id": "66fbedbe",
   "metadata": {},
   "outputs": [],
   "source": [
    "## 단순히 URL 을 입력하면 Hello World 를 볼 수 있는 가장 간단한 형태의 서버입니다."
   ]
  },
  {
   "cell_type": "code",
   "execution_count": 1,
   "id": "54a97048",
   "metadata": {
    "scrolled": true
   },
   "outputs": [
    {
     "name": "stdout",
     "output_type": "stream",
     "text": [
      " * Serving Flask app \"__main__\" (lazy loading)\n",
      " * Environment: production\n",
      "\u001b[31m   WARNING: This is a development server. Do not use it in a production deployment.\u001b[0m\n",
      "\u001b[2m   Use a production WSGI server instead.\u001b[0m\n",
      " * Debug mode: off\n"
     ]
    },
    {
     "name": "stderr",
     "output_type": "stream",
     "text": [
      " * Running on http://127.0.0.1:5000/ (Press CTRL+C to quit)\n",
      "127.0.0.1 - - [16/Jan/2023 23:19:39] \"GET / HTTP/1.1\" 200 -\n",
      "127.0.0.1 - - [16/Jan/2023 23:19:39] \"GET /favicon.ico HTTP/1.1\" 404 -\n",
      "127.0.0.1 - - [16/Jan/2023 23:19:45] \"GET / HTTP/1.1\" 200 -\n"
     ]
    }
   ],
   "source": [
    "from flask import Flask\n",
    "app = Flask(__name__)\n",
    "\n",
    "@app.route(\"/\")\n",
    "def hello():\n",
    "    return \"Hello World!\"\n",
    "\n",
    "if __name__ == \"__main__\":\n",
    "    app.run()"
   ]
  },
  {
   "cell_type": "markdown",
   "id": "a9b4fae2",
   "metadata": {},
   "source": [
    "---"
   ]
  },
  {
   "cell_type": "markdown",
   "id": "ceba8585",
   "metadata": {},
   "source": [
    "## 두 번째 예제"
   ]
  },
  {
   "cell_type": "code",
   "execution_count": null,
   "id": "976a0a29",
   "metadata": {},
   "outputs": [],
   "source": [
    "## 특정 URL에 대한 요청을 처리합니다."
   ]
  },
  {
   "cell_type": "code",
   "execution_count": 2,
   "id": "5908b274",
   "metadata": {},
   "outputs": [
    {
     "name": "stdout",
     "output_type": "stream",
     "text": [
      " * Serving Flask app \"__main__\" (lazy loading)\n",
      " * Environment: production\n",
      "\u001b[31m   WARNING: This is a development server. Do not use it in a production deployment.\u001b[0m\n",
      "\u001b[2m   Use a production WSGI server instead.\u001b[0m\n",
      " * Debug mode: off\n"
     ]
    },
    {
     "name": "stderr",
     "output_type": "stream",
     "text": [
      " * Running on http://127.0.0.1:5000/ (Press CTRL+C to quit)\n",
      "127.0.0.1 - - [16/Jan/2023 23:20:27] \"GET / HTTP/1.1\" 200 -\n",
      "127.0.0.1 - - [16/Jan/2023 23:20:45] \"GET / HTTP/1.1\" 200 -\n",
      "127.0.0.1 - - [16/Jan/2023 23:20:52] \"GET /flask HTTP/1.1\" 200 -\n",
      "127.0.0.1 - - [16/Jan/2023 23:20:55] \"GET /python HTTP/1.1\" 308 -\n",
      "127.0.0.1 - - [16/Jan/2023 23:20:55] \"GET /python/ HTTP/1.1\" 200 -\n"
     ]
    }
   ],
   "source": [
    "from flask import Flask\n",
    "app = Flask(__name__)\n",
    "\n",
    "@app.route('/flask')\n",
    "def hello_flask():\n",
    "    return 'Hello Flask'\n",
    "\n",
    "@app.route('/python/')\n",
    "def hello_python():\n",
    "    return 'Hello Python'\n",
    "\n",
    "@app.route('/')\n",
    "def flask_home():\n",
    "    return '가즈아'\n",
    "\n",
    "if __name__ == '__main__':\n",
    "    app.run()"
   ]
  },
  {
   "cell_type": "markdown",
   "id": "cae5a165",
   "metadata": {},
   "source": [
    "---"
   ]
  },
  {
   "cell_type": "markdown",
   "id": "74676f94",
   "metadata": {},
   "source": [
    "## 세 번째 예제"
   ]
  },
  {
   "cell_type": "code",
   "execution_count": null,
   "id": "1d11bab7",
   "metadata": {},
   "outputs": [],
   "source": [
    "## 가변 인자 처리하기"
   ]
  },
  {
   "cell_type": "code",
   "execution_count": 3,
   "id": "ebe83c60",
   "metadata": {},
   "outputs": [
    {
     "name": "stdout",
     "output_type": "stream",
     "text": [
      " * Serving Flask app \"__main__\" (lazy loading)\n",
      " * Environment: production\n",
      "\u001b[31m   WARNING: This is a development server. Do not use it in a production deployment.\u001b[0m\n",
      "\u001b[2m   Use a production WSGI server instead.\u001b[0m\n",
      " * Debug mode: off\n"
     ]
    },
    {
     "name": "stderr",
     "output_type": "stream",
     "text": [
      " * Running on http://127.0.0.1:5000/ (Press CTRL+C to quit)\n",
      "127.0.0.1 - - [16/Jan/2023 23:21:30] \"GET / HTTP/1.1\" 404 -\n",
      "127.0.0.1 - - [16/Jan/2023 23:21:43] \"GET /hello/dongmin HTTP/1.1\" 200 -\n"
     ]
    }
   ],
   "source": [
    "from flask import Flask\n",
    "app = Flask(__name__)\n",
    "\n",
    "@app.route('/hello/<name>')\n",
    "def hello_name(name):\n",
    "    return 'Hello %s!' % name\n",
    "\n",
    "if __name__ == '__main__':\n",
    "    app.run()"
   ]
  },
  {
   "cell_type": "markdown",
   "id": "45ffca5c",
   "metadata": {},
   "source": [
    "---"
   ]
  },
  {
   "cell_type": "markdown",
   "id": "6f106c8d",
   "metadata": {},
   "source": [
    "## 네 번째 예제"
   ]
  },
  {
   "cell_type": "code",
   "execution_count": null,
   "id": "04c8e8fd",
   "metadata": {},
   "outputs": [],
   "source": [
    "## 웹 요청 처리하기"
   ]
  },
  {
   "cell_type": "code",
   "execution_count": 4,
   "id": "a845d948",
   "metadata": {},
   "outputs": [
    {
     "name": "stdout",
     "output_type": "stream",
     "text": [
      " * Serving Flask app \"__main__\" (lazy loading)\n",
      " * Environment: production\n",
      "\u001b[31m   WARNING: This is a development server. Do not use it in a production deployment.\u001b[0m\n",
      "\u001b[2m   Use a production WSGI server instead.\u001b[0m\n",
      " * Debug mode: off\n"
     ]
    },
    {
     "name": "stderr",
     "output_type": "stream",
     "text": [
      " * Running on http://127.0.0.1:5000/ (Press CTRL+C to quit)\n",
      "127.0.0.1 - - [16/Jan/2023 23:22:24] \"GET / HTTP/1.1\" 404 -\n",
      "127.0.0.1 - - [16/Jan/2023 23:22:32] \"GET /login HTTP/1.1\" 404 -\n",
      "127.0.0.1 - - [16/Jan/2023 23:22:41] \"GET /login HTTP/1.1\" 302 -\n",
      "127.0.0.1 - - [16/Jan/2023 23:22:41] \"GET /success HTTP/1.1\" 200 -\n"
     ]
    }
   ],
   "source": [
    "from flask import Flask, redirect, url_for, request\n",
    "app = Flask(__name__)\n",
    "\n",
    "@app.route('/success')\n",
    "def success():\n",
    "    return 'welcome !!!'\n",
    "\n",
    "@app.route('/login', methods = ['POST', 'GET'])\n",
    "def login():\n",
    "    if request.method == 'POST':\n",
    "        return redirect(url_for('success'))\n",
    "    else:\n",
    "        return redirect(url_for('success'))\n",
    "\n",
    "if __name__ == '__main__':\n",
    "    app.run()"
   ]
  },
  {
   "cell_type": "markdown",
   "id": "746e0036",
   "metadata": {},
   "source": [
    "---"
   ]
  },
  {
   "cell_type": "markdown",
   "id": "436d1d6d",
   "metadata": {},
   "source": [
    "## 다섯 번째 예제"
   ]
  },
  {
   "cell_type": "code",
   "execution_count": null,
   "id": "002c010e",
   "metadata": {},
   "outputs": [],
   "source": [
    "## vue 환경을 구축합니다.\n",
    "## 필요에 따라 vscode 를 설치합니다."
   ]
  },
  {
   "cell_type": "code",
   "execution_count": null,
   "id": "098dadab",
   "metadata": {},
   "outputs": [],
   "source": [
    "## 준비되어 있는 vue 를 구동시켜봅시다."
   ]
  },
  {
   "cell_type": "code",
   "execution_count": null,
   "id": "181c621c",
   "metadata": {},
   "outputs": [],
   "source": [
    "## npm install\n",
    "## 이후 npm run serve"
   ]
  },
  {
   "cell_type": "code",
   "execution_count": 5,
   "id": "8229c629",
   "metadata": {
    "scrolled": true
   },
   "outputs": [
    {
     "name": "stdout",
     "output_type": "stream",
     "text": [
      " * Serving Flask app \"__main__\" (lazy loading)\n",
      " * Environment: production\n",
      "\u001b[31m   WARNING: This is a development server. Do not use it in a production deployment.\u001b[0m\n",
      "\u001b[2m   Use a production WSGI server instead.\u001b[0m\n",
      " * Debug mode: off\n"
     ]
    },
    {
     "name": "stderr",
     "output_type": "stream",
     "text": [
      " * Running on http://127.0.0.1:5000/ (Press CTRL+C to quit)\n",
      "127.0.0.1 - - [16/Jan/2023 23:24:59] \"OPTIONS /vueMember/register HTTP/1.1\" 200 -\n",
      "127.0.0.1 - - [16/Jan/2023 23:24:59] \"POST /vueMember/register HTTP/1.1\" 200 -\n"
     ]
    },
    {
     "name": "stdout",
     "output_type": "stream",
     "text": [
      "params:  {'id': 'eddi', 'pw': '1234'}\n",
      "params[key]:  eddi  key:  id\n",
      "params[key]:  1234  key:  pw\n",
      "eddi 님 가입이 완료되었습니다!\n"
     ]
    },
    {
     "name": "stderr",
     "output_type": "stream",
     "text": [
      "127.0.0.1 - - [16/Jan/2023 23:25:24] \"OPTIONS /vueMember/register HTTP/1.1\" 200 -\n",
      "127.0.0.1 - - [16/Jan/2023 23:25:24] \"POST /vueMember/register HTTP/1.1\" 200 -\n"
     ]
    },
    {
     "name": "stdout",
     "output_type": "stream",
     "text": [
      "params:  {'id': 'dongmin', 'pw': 'bear'}\n",
      "params[key]:  dongmin  key:  id\n",
      "params[key]:  bear  key:  pw\n",
      "dongmin 님 가입이 완료되었습니다!\n"
     ]
    }
   ],
   "source": [
    "from flask import Flask, url_for, request, jsonify\n",
    "from flask_cors import CORS, cross_origin\n",
    "\n",
    "import json\n",
    "\n",
    "app = Flask(__name__)\n",
    "CORS(app)\n",
    "\n",
    "@app.route('/vueMember/register', methods = ['POST'])\n",
    "def register():\n",
    "    # 낮은 버전의 파이썬\n",
    "    # params = json.loads(request.get_data(), encoding='utf-8')\n",
    "    # 최신 버전의 파이썬 3.9\n",
    "    params = json.loads(request.get_data())\n",
    "    print(\"params: \", params)\n",
    "        \n",
    "    if len(params) == 0:\n",
    "        return jsonify(\"No Parameter\")\n",
    "    \n",
    "    for key in params.keys():\n",
    "        print(\"params[key]: \", params[key], \" key: \", key)\n",
    "        \n",
    "    send_string = params.get('id') + \" 님 가입이 완료되었습니다!\"\n",
    "    print(send_string)\n",
    "    \n",
    "    return jsonify(send_string)\n",
    "\n",
    "if __name__ == '__main__':\n",
    "    app.run()"
   ]
  }
 ],
 "metadata": {
  "kernelspec": {
   "display_name": "Python 3 (ipykernel)",
   "language": "python",
   "name": "python3"
  },
  "language_info": {
   "codemirror_mode": {
    "name": "ipython",
    "version": 3
   },
   "file_extension": ".py",
   "mimetype": "text/x-python",
   "name": "python",
   "nbconvert_exporter": "python",
   "pygments_lexer": "ipython3",
   "version": "3.9.13"
  }
 },
 "nbformat": 4,
 "nbformat_minor": 5
}
