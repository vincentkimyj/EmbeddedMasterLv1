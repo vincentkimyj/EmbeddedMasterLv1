{
 "cells": [
  {
   "cell_type": "code",
   "execution_count": 1,
   "id": "dff33b05",
   "metadata": {},
   "outputs": [
    {
     "name": "stdout",
     "output_type": "stream",
     "text": [
      "val is bigger then 5\n"
     ]
    }
   ],
   "source": [
    "val = 10\n",
    "if val > 5:\n",
    "        print(\"val is bigger then 5\")"
   ]
  },
  {
   "cell_type": "code",
   "execution_count": 2,
   "id": "5396f32d",
   "metadata": {},
   "outputs": [
    {
     "name": "stdout",
     "output_type": "stream",
     "text": [
      "banana\n"
     ]
    }
   ],
   "source": [
    "money = 10\n",
    "\n",
    "#파이썬은 중괄호 대신 콜론을 찍어서 구별함\n",
    "if money > 100:\n",
    "    item = \"apple\"\n",
    "else:\n",
    "    item = \"banana\"\n",
    "print(item)"
   ]
  },
  {
   "cell_type": "code",
   "execution_count": 3,
   "id": "0218c2e5",
   "metadata": {},
   "outputs": [
    {
     "name": "stdout",
     "output_type": "stream",
     "text": [
      "점수 입력: 54\n",
      "Grade is F\n"
     ]
    }
   ],
   "source": [
    "score = int(input('점수 입력: '))\n",
    "\n",
    "if 90 <= score <= 100:\n",
    "    grade = \"A\"\n",
    "elif 80 <= score <= 90:\n",
    "    grade = \"B\"\n",
    "elif 70 <= score <= 80:\n",
    "    grade = \"C\"\n",
    "elif 60 <= score <= 70:\n",
    "    grade = \"D\"\n",
    "else :\n",
    "    grade = \"F\"\n",
    "    \n",
    "print(\"Grade is \" + grade)"
   ]
  },
  {
   "cell_type": "code",
   "execution_count": 4,
   "id": "3862105a",
   "metadata": {},
   "outputs": [
    {
     "name": "stdout",
     "output_type": "stream",
     "text": [
      "5\n",
      "4\n",
      "3\n",
      "2\n",
      "1\n"
     ]
    }
   ],
   "source": [
    "val = 5\n",
    "# 들여쓰기에 따라 제어문의 동작이 달라짐\n",
    "while val > 0:\n",
    "    print(val)\n",
    "    val -= 1"
   ]
  },
  {
   "cell_type": "code",
   "execution_count": 5,
   "id": "e9ea110d",
   "metadata": {},
   "outputs": [
    {
     "name": "stdout",
     "output_type": "stream",
     "text": [
      "Apple <class 'str'>\n",
      "100 <class 'int'>\n",
      "15.33 <class 'float'>\n"
     ]
    }
   ],
   "source": [
    "lists = ['Apple', 100, 15.33]\n",
    "for i in lists:\n",
    "    print(i, type(i))"
   ]
  },
  {
   "cell_type": "code",
   "execution_count": 6,
   "id": "0b1ad0d5",
   "metadata": {},
   "outputs": [
    {
     "name": "stdout",
     "output_type": "stream",
     "text": [
      "Apple 100\n",
      "Orange 20.37\n",
      "333 String\n"
     ]
    }
   ],
   "source": [
    "#key, value (키, 밸류(값)) d == 해쉬(파이썬에서 딕셔너리)\n",
    "d = {\"Apple\": 100, \"Orange\": 20.37, 333: \"String\"}\n",
    "for k, v in d.items():\n",
    "    print(k,v)"
   ]
  },
  {
   "cell_type": "code",
   "execution_count": 7,
   "id": "5f1c03dd",
   "metadata": {},
   "outputs": [
    {
     "name": "stdout",
     "output_type": "stream",
     "text": [
      "[0, 1, 2, 3, 4, 5, 6, 7, 8, 9]\n"
     ]
    }
   ],
   "source": [
    "#range(10)는 0~9\n",
    "print(list(range(10)))"
   ]
  },
  {
   "cell_type": "code",
   "execution_count": 8,
   "id": "1eabfb90",
   "metadata": {},
   "outputs": [
    {
     "name": "stdout",
     "output_type": "stream",
     "text": [
      "[5, 6, 7, 8, 9]\n"
     ]
    }
   ],
   "source": [
    "# 5이상 ~ 10 미만\n",
    "print(list(range(5, 10)))"
   ]
  },
  {
   "cell_type": "code",
   "execution_count": 15,
   "id": "9c677e19",
   "metadata": {},
   "outputs": [
    {
     "name": "stdout",
     "output_type": "stream",
     "text": [
      "[10, 9, 8, 7, 6, 5, 4, 3, 2, 1]\n"
     ]
    }
   ],
   "source": [
    "#어찌 되었든 시작은 맨 앞, 끝은 가운데(*중요!해당숫자 포함안함), 움직이는 범위설정 \n",
    "print(list(range(10, 0, -1)))"
   ]
  },
  {
   "cell_type": "code",
   "execution_count": 11,
   "id": "26a9eaa8",
   "metadata": {},
   "outputs": [
    {
     "name": "stdout",
     "output_type": "stream",
     "text": [
      "[10, 12, 14, 16, 18]\n"
     ]
    }
   ],
   "source": [
    "print(list(range(10, 20, 2)))"
   ]
  },
  {
   "cell_type": "code",
   "execution_count": 13,
   "id": "5ef224a6",
   "metadata": {},
   "outputs": [
    {
     "name": "stdout",
     "output_type": "stream",
     "text": [
      "idx: 0, val: Apple\n",
      "idx: 1, val: Orange\n",
      "idx: 2, val: Grape\n"
     ]
    }
   ],
   "source": [
    "strList = ['Apple', 'Orange', 'Grape']\n",
    "for i in range(len(strList)):\n",
    "    print(\"idx: {0}, val: {1}\".format(i,strList[i]))"
   ]
  },
  {
   "cell_type": "code",
   "execution_count": 16,
   "id": "961d9eed",
   "metadata": {},
   "outputs": [
    {
     "name": "stdout",
     "output_type": "stream",
     "text": [
      "[1, 4, 9, 16, 25]\n"
     ]
    }
   ],
   "source": [
    "#i ** 2 = i^2 를 의미한다.\n",
    "numList = [1, 2, 3, 4, 5]\n",
    "print([i ** 2 for i in numList])"
   ]
  },
  {
   "cell_type": "code",
   "execution_count": 17,
   "id": "0c72235f",
   "metadata": {},
   "outputs": [
    {
     "name": "stdout",
     "output_type": "stream",
     "text": [
      "[5, 6, 5]\n"
     ]
    }
   ],
   "source": [
    "print([len(i) for i in strList])"
   ]
  },
  {
   "cell_type": "code",
   "execution_count": 19,
   "id": "862e4591",
   "metadata": {},
   "outputs": [
    {
     "name": "stdout",
     "output_type": "stream",
     "text": [
      "['APPLE', 'BANANA', 'ORANGE']\n"
     ]
    }
   ],
   "source": [
    "#6번째랑 이어지는 내용\n",
    "d = {100: \"apple\", 200: \"banana\", 300: \"orange\"}\n",
    "print([v.upper() for v in d.values()])"
   ]
  },
  {
   "cell_type": "code",
   "execution_count": 20,
   "id": "bb1d5844",
   "metadata": {},
   "outputs": [
    {
     "name": "stdout",
     "output_type": "stream",
     "text": [
      "['Orange']\n"
     ]
    }
   ],
   "source": [
    "#문자길이가 5개초과인 것 보여줘라\n",
    "print([i for i in strList if len(i) > 5])"
   ]
  },
  {
   "cell_type": "code",
   "execution_count": null,
   "id": "ee1e1187",
   "metadata": {},
   "outputs": [],
   "source": []
  }
 ],
 "metadata": {
  "kernelspec": {
   "display_name": "Python 3 (ipykernel)",
   "language": "python",
   "name": "python3"
  },
  "language_info": {
   "codemirror_mode": {
    "name": "ipython",
    "version": 3
   },
   "file_extension": ".py",
   "mimetype": "text/x-python",
   "name": "python",
   "nbconvert_exporter": "python",
   "pygments_lexer": "ipython3",
   "version": "3.9.13"
  }
 },
 "nbformat": 4,
 "nbformat_minor": 5
}
